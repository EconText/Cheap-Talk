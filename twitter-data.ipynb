{
 "cells": [
  {
   "cell_type": "code",
   "execution_count": 5,
   "metadata": {},
   "outputs": [],
   "source": [
    "import tweepy\n",
    "import pandas as pd\n",
    "from twitter_api_xanda import TWITTER_API_KEY, TWITTER_API_SECRET, TWITTER_API_BEARER"
   ]
  },
  {
   "cell_type": "code",
   "execution_count": 52,
   "metadata": {},
   "outputs": [],
   "source": [
    "company_handle = \"yumbrands\"\n",
    "FIELDS = [\"created_at\", \"text\", \"public_metrics\", \"context_annotations\", \"entities\", \"referenced_tweets\"]"
   ]
  },
  {
   "cell_type": "code",
   "execution_count": 53,
   "metadata": {},
   "outputs": [],
   "source": [
    "client = tweepy.Client(bearer_token=TWITTER_API_BEARER)\n",
    "\n",
    "user = client.get_user(username=company_handle)\n",
    "tweets = client.get_users_tweets(id=user.data.id, tweet_fields=FIELDS)"
   ]
  },
  {
   "cell_type": "code",
   "execution_count": 94,
   "metadata": {},
   "outputs": [],
   "source": [
    "def parse_entities(tweet):\n",
    "    info_tuples = set()\n",
    "    if \"annotations\" not in tweet.entities:\n",
    "        return info_tuples\n",
    "    \n",
    "    for obj in tweet.entities['annotations']:\n",
    "        annotation_type = obj['type']\n",
    "        annotation_text = obj['normalized_text']\n",
    "        \n",
    "        info_tuples.add((annotation_type, annotation_text))\n",
    "\n",
    "    return info_tuples\n",
    "\n",
    "def parse_context_annotations(tweet):\n",
    "    info_tuples = set()\n",
    "    for obj in tweet.context_annotations:\n",
    "        domain_id = obj['domain']['id']\n",
    "        domain_name = obj['domain']['name']\n",
    "        entity_name = obj['entity']['name']\n",
    "        \n",
    "        info_tuples.add((domain_id, domain_name, entity_name))\n",
    "        \n",
    "    return info_tuples"
   ]
  },
  {
   "cell_type": "code",
   "execution_count": 91,
   "metadata": {},
   "outputs": [
    {
     "name": "stdout",
     "output_type": "stream",
     "text": [
      "{('131', 'Unified Twitter Taxonomy', 'Yum! Brands'), ('30', 'Entities [Entity Service]', 'Fast food Restaurants'), ('131', 'Unified Twitter Taxonomy', 'S&P 500'), ('47', 'Brand', 'Pizza Hut'), ('47', 'Brand', 'USAID'), ('47', 'Brand', 'Yum! Brands'), ('152', 'Food', 'Fast food Restaurants'), ('66', 'Interests and Hobbies Category', 'Cuisines'), ('30', 'Entities [Entity Service]', 'QSR - Dining'), ('45', 'Brand Vertical', 'Government/Education'), ('30', 'Entities [Entity Service]', 'Food'), ('46', 'Business Taxonomy', 'Food & Beverage Business'), ('30', 'Entities [Entity Service]', 'Non-profit - Government/Education'), ('131', 'Unified Twitter Taxonomy', 'Pizza Hut'), ('45', 'Brand Vertical', 'Dining')}\n"
     ]
    }
   ],
   "source": [
    "tweet = tweets.data[0]\n",
    "metrics = tweet.public_metrics\n",
    "\n",
    "tweet_id = tweet.id\n",
    "created_at = str(tweet.created_at)\n",
    "text = tweet.text\n",
    "like_count = metrics[\"like_count\"]\n",
    "reply_count = metrics[\"reply_count\"]\n",
    "retweet_count = metrics[\"retweet_count\"]\n",
    "referenced_tweets = tweet.referenced_tweets\n",
    "context_annotations = parse_context_annotations(tweet)\n",
    "entities = parse_entities(tweet)"
   ]
  },
  {
   "cell_type": "code",
   "execution_count": 92,
   "metadata": {},
   "outputs": [],
   "source": [
    "COLUMNS = [\"tweet_id\", \"created_at\", \"text\", \"like_count\", \"reply_count\", \"retweet_count\", \"referenced_tweets\", \"context_annotations\", \"entities\"]\n",
    "def get_tweets_for_user(username: str):\n",
    "    user = client.get_user(username=username)\n",
    "    tweets = client.get_users_tweets(id=user.data.id, tweet_fields=FIELDS)\n",
    "    \n",
    "    rows = []\n",
    "    \n",
    "    for tweet in tweets.data:\n",
    "        tweet_id = tweet.id\n",
    "        created_at = str(tweet.created_at)\n",
    "        text = tweet.text\n",
    "        like_count = metrics[\"like_count\"]\n",
    "        reply_count = metrics[\"reply_count\"]\n",
    "        retweet_count = metrics[\"retweet_count\"]\n",
    "        referenced_tweets = tweet.referenced_tweets\n",
    "        context_annotations = parse_context_annotations(tweet)\n",
    "        entities = parse_entities(tweet)\n",
    "        \n",
    "        rows.append([tweet_id, created_at, text, like_count, reply_count, retweet_count, referenced_tweets, context_annotations, entities])\n",
    "        \n",
    "    df = pd.DataFrame(rows, columns=COLUMNS)\n",
    "    \n",
    "    return df"
   ]
  },
  {
   "cell_type": "code",
   "execution_count": 95,
   "metadata": {},
   "outputs": [],
   "source": [
    "yum_tweets_df = get_tweets_for_user(\"yumbrands\")\n",
    "\n",
    "yum_tweets_df.to_csv(\"yum_tweets.csv\")"
   ]
  }
 ],
 "metadata": {
  "kernelspec": {
   "display_name": "Python 3.8.5 ('base')",
   "language": "python",
   "name": "python3"
  },
  "language_info": {
   "codemirror_mode": {
    "name": "ipython",
    "version": 3
   },
   "file_extension": ".py",
   "mimetype": "text/x-python",
   "name": "python",
   "nbconvert_exporter": "python",
   "pygments_lexer": "ipython3",
   "version": "3.8.5"
  },
  "orig_nbformat": 4,
  "vscode": {
   "interpreter": {
    "hash": "cf9e30d75915ca042a0c16880f12618917ecf4ef982b26da0e033904aa847049"
   }
  }
 },
 "nbformat": 4,
 "nbformat_minor": 2
}
