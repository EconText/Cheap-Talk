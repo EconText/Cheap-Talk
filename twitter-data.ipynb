{
 "cells": [
  {
   "cell_type": "code",
   "execution_count": 1,
   "metadata": {},
   "outputs": [],
   "source": [
    "import tweepy\n",
    "from twitter_api_xanda import TWITTER_API_KEY, TWITTER_API_SECRET, TWITTER_API_BEARER\n",
    "import pandas as pd\n",
    "import datetime"
   ]
  },
  {
   "cell_type": "code",
   "execution_count": 2,
   "metadata": {},
   "outputs": [],
   "source": [
    "company_handle = \"yumbrands\"\n",
    "FIELDS = [\"created_at\", \"text\", \"public_metrics\", \"context_annotations\", \"entities\", \"referenced_tweets\", \"author_id\"]"
   ]
  },
  {
   "cell_type": "code",
   "execution_count": 3,
   "metadata": {},
   "outputs": [],
   "source": [
    "client = tweepy.Client(bearer_token=TWITTER_API_BEARER)\n",
    "\n",
    "user = client.get_user(username=company_handle)\n",
    "tweets = client.get_users_tweets(id=user.data.id, tweet_fields=FIELDS)"
   ]
  },
  {
   "cell_type": "code",
   "execution_count": 4,
   "metadata": {},
   "outputs": [],
   "source": [
    "def parse_referenced_tweets(tweet):\n",
    "    referenced_tweets = set()\n",
    "    if not tweet.referenced_tweets:\n",
    "        return None\n",
    "    \n",
    "    for obj in tweet.referenced_tweets:\n",
    "        tweet_id = obj['id']\n",
    "        tweet_type = obj['type']\n",
    "        \n",
    "        referenced_tweets.add((tweet_id, tweet_type))\n",
    "\n",
    "    return referenced_tweets\n",
    "\n",
    "def parse_entity_annotations(tweet):\n",
    "    info_tuples = set()\n",
    "    if not tweet.entities or \"annotations\" not in tweet.entities:\n",
    "        return None\n",
    "    \n",
    "    for obj in tweet.entities['annotations']:\n",
    "        annotation_type = obj['type']\n",
    "        annotation_text = obj['normalized_text']\n",
    "        \n",
    "        info_tuples.add((annotation_type, annotation_text))\n",
    "\n",
    "    return info_tuples\n",
    "\n",
    "def parse_entity_hashtags(tweet):\n",
    "    hashtags = set()\n",
    "    if not tweet.entities or \"hashtags\" not in tweet.entities:\n",
    "        return None\n",
    "    \n",
    "    for obj in tweet.entities['hashtags']:\n",
    "        hashtags.add(obj['tag'])\n",
    "        \n",
    "    return hashtags\n",
    "\n",
    "def parse_context_annotations(tweet):\n",
    "    info_tuples = set()\n",
    "    for obj in tweet.context_annotations:\n",
    "        domain_id = obj['domain']['id']\n",
    "        domain_name = obj['domain']['name']\n",
    "        entity_name = obj['entity']['name']\n",
    "        \n",
    "        info_tuples.add((domain_id, domain_name, entity_name))\n",
    "    \n",
    "    if len(info_tuples) == 0:\n",
    "        return None\n",
    "        \n",
    "    return info_tuples"
   ]
  },
  {
   "cell_type": "code",
   "execution_count": 5,
   "metadata": {},
   "outputs": [],
   "source": [
    "tweet = tweets.data[2]\n",
    "metrics = tweet.public_metrics\n",
    "\n",
    "tweet_id = tweet.id\n",
    "created_at = str(tweet.created_at)\n",
    "text = tweet.text\n",
    "like_count = metrics[\"like_count\"]\n",
    "reply_count = metrics[\"reply_count\"]\n",
    "retweet_count = metrics[\"retweet_count\"]\n",
    "referenced_tweets = parse_referenced_tweets(tweet)\n",
    "context_annotations = parse_context_annotations(tweet)\n",
    "hashtags = parse_entity_hashtags(tweet)\n",
    "entities = parse_entity_annotations(tweet)"
   ]
  },
  {
   "cell_type": "code",
   "execution_count": 6,
   "metadata": {},
   "outputs": [],
   "source": [
    "def parse_tweet_data(username, tweet, is_quoted_tweet = False, is_retweeted_tweet = False):\n",
    "    if not username:\n",
    "        user = client.get_user(id=tweet.author_id)\n",
    "        username = user.data.username\n",
    "    tweet_id = tweet.id\n",
    "    created_at = str(tweet.created_at)\n",
    "    text = tweet.text\n",
    "    hashtags = parse_entity_hashtags(tweet)\n",
    "    metrics = tweet.public_metrics\n",
    "    like_count = metrics[\"like_count\"]\n",
    "    reply_count = metrics[\"reply_count\"]\n",
    "    retweet_count = metrics[\"retweet_count\"]\n",
    "    is_reply = False\n",
    "    referenced_tweets = parse_referenced_tweets(tweet)\n",
    "    context_annotations = parse_context_annotations(tweet)\n",
    "    entities = parse_entity_annotations(tweet)\n",
    "    \n",
    "    return [username, is_quoted_tweet, is_retweeted_tweet, tweet_id, created_at, text, hashtags, like_count, reply_count, retweet_count, referenced_tweets, context_annotations, entities]"
   ]
  },
  {
   "cell_type": "code",
   "execution_count": 7,
   "metadata": {},
   "outputs": [],
   "source": [
    "COLUMNS = [\"username\", \"is_quoted_tweet\", \"is_retweeted_tweet\", \"tweet_id\", \"created_at\", \"text\", \"hashtags\", \"like_count\", \"reply_count\", \"retweet_count\", \"referenced_tweets\", \"context_annotations\", \"entity_annotations\"]\n",
    "TWEET_COUNT = 100\n",
    "\n",
    "def get_tweets_for_user(username: str, get_quoted_tweets: bool, get_retweeted_tweets: bool):\n",
    "    user = client.get_user(username=username)\n",
    "    \n",
    "    end_time = datetime.datetime.now(datetime.timezone.utc).replace(microsecond=0)\n",
    "    one_year_delta = datetime.timedelta(days=365)\n",
    "    end_time_formatted = str(end_time.isoformat())\n",
    "    start_time_formatted = str((end_time - one_year_delta).isoformat())\n",
    "    \n",
    "    rows = []\n",
    "    quoted_tweet_ids = set()\n",
    "    retweeted_tweet_ids = set()\n",
    "    \n",
    "    # Get tweets for username\n",
    "    while True:\n",
    "        print(f\"{end_time_formatted = }\")\n",
    "        print(f\"{start_time_formatted = }\")\n",
    "        tweets = client.get_users_tweets(id=user.data.id, tweet_fields=FIELDS, end_time=end_time_formatted, start_time=start_time_formatted, max_results=TWEET_COUNT, exclude=['replies'])\n",
    "        \n",
    "        if not tweets.data:\n",
    "            break\n",
    "            \n",
    "        print(f\"Got {len(tweets.data)} tweets for {username}.\")\n",
    "        \n",
    "        for tweet in tweets.data:\n",
    "            tweet_type = \"regular\" # assume regular tweet\n",
    "            parsed_tweet = parse_tweet_data(username, tweet)\n",
    "            if parsed_tweet:\n",
    "                referenced_tweets = parsed_tweet[10]\n",
    "                if referenced_tweets:\n",
    "                    for reference in referenced_tweets:\n",
    "                        tweet_id, tweet_type = reference\n",
    "                        if tweet_type == \"quoted\":\n",
    "                            quoted_tweet_ids.add(tweet_id)\n",
    "                        elif tweet_type == \"retweeted\":\n",
    "                            retweeted_tweet_ids.add(tweet_id)\n",
    "                \n",
    "                if tweet_type != \"retweeted\" and tweet_type != \"replied_to\":\n",
    "                    rows.append(parsed_tweet)\n",
    "                \n",
    "                # Update end_time to created_at time of last tweet\n",
    "                last_tweet_time = parsed_tweet[4]   # created_at is at index 4\n",
    "                end_time_formatted = \"T\".join(last_tweet_time.split())\n",
    "        \n",
    "        if len(tweets.data) < 100:\n",
    "            # No more tweets btwn start_time and original end_time\n",
    "            break\n",
    "    \n",
    "    # Get quoted tweets\n",
    "    if get_quoted_tweets and len(quoted_tweet_ids) > 0:\n",
    "        print(f\"Getting quoted tweets for {username}.\")\n",
    "        for tweet_id in quoted_tweet_ids:\n",
    "            tweet = client.get_tweet(id=tweet_id, tweet_fields=FIELDS)\n",
    "            parsed_tweet = parse_tweet_data(None, tweet.data, is_quoted_tweet = True)\n",
    "            if parsed_tweet:\n",
    "                rows.append(parsed_tweet)\n",
    "\n",
    "    # Get retweeted tweets\n",
    "    if get_retweeted_tweets and len(retweeted_tweet_ids) > 0:\n",
    "        print(f\"Getting retweeted tweets for {username}.\")\n",
    "        for tweet_id in retweeted_tweet_ids:\n",
    "            tweet = client.get_tweet(id=tweet_id, tweet_fields=FIELDS)\n",
    "            parsed_tweet = parse_tweet_data(None, tweet.data, is_retweeted_tweet = True)\n",
    "            if parsed_tweet:\n",
    "                rows.append(parsed_tweet)\n",
    "        \n",
    "    df = pd.DataFrame(rows, columns=COLUMNS)\n",
    "    \n",
    "    return df"
   ]
  },
  {
   "cell_type": "markdown",
   "metadata": {},
   "source": [
    "### Get Yum Brand tweets with quoted tweets and retweeted tweets"
   ]
  },
  {
   "cell_type": "code",
   "execution_count": 8,
   "metadata": {},
   "outputs": [
    {
     "name": "stdout",
     "output_type": "stream",
     "text": [
      "end_time_formatted = '2022-11-01T21:40:16+00:00'\n",
      "start_time_formatted = '2021-11-01T21:40:16+00:00'\n",
      "Got 100 tweets for yumbrands.\n",
      "end_time_formatted = '2022-01-19T22:25:35+00:00'\n",
      "start_time_formatted = '2021-11-01T21:40:16+00:00'\n",
      "Got 20 tweets for yumbrands.\n",
      "Getting quoted tweets for yumbrands.\n",
      "Getting retweeted tweets for yumbrands.\n"
     ]
    }
   ],
   "source": [
    "# Get Yum Brand tweets with quoted tweets and retweeted tweets\n",
    "yum_tweets_df = get_tweets_for_user(\"yumbrands\", True, True)\n",
    "\n",
    "# In case companies retweet or quote tweet themselves\n",
    "yum_tweets_df.drop_duplicates(subset=['tweet_id'])\n",
    "\n",
    "yum_tweets_df.to_csv(\"yum_tweets.csv\")"
   ]
  },
  {
   "cell_type": "markdown",
   "metadata": {},
   "source": [
    "### Get Yum Brand tweets without quoted tweets and retweeted tweets"
   ]
  },
  {
   "cell_type": "code",
   "execution_count": 9,
   "metadata": {},
   "outputs": [
    {
     "name": "stdout",
     "output_type": "stream",
     "text": [
      "end_time_formatted = '2022-11-01T21:40:19+00:00'\n",
      "start_time_formatted = '2021-11-01T21:40:19+00:00'\n",
      "Got 100 tweets for yumbrands.\n",
      "end_time_formatted = '2022-01-19T22:25:35+00:00'\n",
      "start_time_formatted = '2021-11-01T21:40:19+00:00'\n",
      "Got 20 tweets for yumbrands.\n"
     ]
    }
   ],
   "source": [
    "# Get Yum Brand tweets without quoted tweets and without retweeted tweets\n",
    "yum_tweets_df = get_tweets_for_user(\"yumbrands\", False, False)\n",
    "\n",
    "# In case companies retweet or quote tweet themselves\n",
    "yum_tweets_df.drop_duplicates(subset=['tweet_id'])\n",
    "\n",
    "yum_tweets_df.to_csv(\"yum_tweets_no_quoted_no_retweeted.csv\")"
   ]
  },
  {
   "cell_type": "code",
   "execution_count": null,
   "metadata": {},
   "outputs": [],
   "source": []
  }
 ],
 "metadata": {
  "kernelspec": {
   "display_name": "Python 3 (ipykernel)",
   "language": "python",
   "name": "python3"
  },
  "language_info": {
   "codemirror_mode": {
    "name": "ipython",
    "version": 3
   },
   "file_extension": ".py",
   "mimetype": "text/x-python",
   "name": "python",
   "nbconvert_exporter": "python",
   "pygments_lexer": "ipython3",
   "version": "3.8.12"
  },
  "vscode": {
   "interpreter": {
    "hash": "cf9e30d75915ca042a0c16880f12618917ecf4ef982b26da0e033904aa847049"
   }
  }
 },
 "nbformat": 4,
 "nbformat_minor": 2
}
