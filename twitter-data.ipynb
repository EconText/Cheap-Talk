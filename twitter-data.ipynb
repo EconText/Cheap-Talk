{
 "cells": [
  {
   "cell_type": "code",
   "execution_count": 1,
   "metadata": {},
   "outputs": [],
   "source": [
    "import tweepy\n",
    "from twitter_api_xanda import TWITTER_API_KEY, TWITTER_API_SECRET, TWITTER_API_BEARER\n",
    "import pandas as pd\n",
    "import datetime"
   ]
  },
  {
   "cell_type": "code",
   "execution_count": 2,
   "metadata": {},
   "outputs": [],
   "source": [
    "company_handle = \"yumbrands\"\n",
    "FIELDS = [\"created_at\", \"text\", \"public_metrics\", \"context_annotations\", \"entities\", \"referenced_tweets\", \"author_id\"]"
   ]
  },
  {
   "cell_type": "code",
   "execution_count": 3,
   "metadata": {},
   "outputs": [],
   "source": [
    "client = tweepy.Client(bearer_token=TWITTER_API_BEARER)\n",
    "\n",
    "user = client.get_user(username=company_handle)\n",
    "tweets = client.get_users_tweets(id=user.data.id, tweet_fields=FIELDS)"
   ]
  },
  {
   "cell_type": "code",
   "execution_count": 4,
   "metadata": {},
   "outputs": [],
   "source": [
    "def parse_referenced_tweets(tweet):\n",
    "    referenced_tweets = set()\n",
    "    if not tweet.referenced_tweets:\n",
    "        return None\n",
    "    \n",
    "    for obj in tweet.referenced_tweets:\n",
    "        tweet_id = obj['id']\n",
    "        tweet_type = obj['type']\n",
    "        \n",
    "        referenced_tweets.add((tweet_id, tweet_type))\n",
    "\n",
    "    return referenced_tweets\n",
    "\n",
    "def parse_entity_annotations(tweet):\n",
    "    info_tuples = set()\n",
    "    if \"annotations\" not in tweet.entities:\n",
    "        return None\n",
    "    \n",
    "    for obj in tweet.entities['annotations']:\n",
    "        annotation_type = obj['type']\n",
    "        annotation_text = obj['normalized_text']\n",
    "        \n",
    "        info_tuples.add((annotation_type, annotation_text))\n",
    "\n",
    "    return info_tuples\n",
    "\n",
    "def parse_entity_hashtags(tweet):\n",
    "    hashtags = set()\n",
    "    if \"hashtags\" not in tweet.entities:\n",
    "        return None\n",
    "    \n",
    "    for obj in tweet.entities['hashtags']:\n",
    "        hashtags.add(obj['tag'])\n",
    "        \n",
    "    return hashtags\n",
    "\n",
    "def parse_context_annotations(tweet):\n",
    "    info_tuples = set()\n",
    "    for obj in tweet.context_annotations:\n",
    "        domain_id = obj['domain']['id']\n",
    "        domain_name = obj['domain']['name']\n",
    "        entity_name = obj['entity']['name']\n",
    "        \n",
    "        info_tuples.add((domain_id, domain_name, entity_name))\n",
    "    \n",
    "    if len(info_tuples) == 0:\n",
    "        return None\n",
    "        \n",
    "    return info_tuples"
   ]
  },
  {
   "cell_type": "code",
   "execution_count": 5,
   "metadata": {},
   "outputs": [],
   "source": [
    "tweet = tweets.data[2]\n",
    "metrics = tweet.public_metrics\n",
    "\n",
    "tweet_id = tweet.id\n",
    "created_at = str(tweet.created_at)\n",
    "text = tweet.text\n",
    "like_count = metrics[\"like_count\"]\n",
    "reply_count = metrics[\"reply_count\"]\n",
    "retweet_count = metrics[\"retweet_count\"]\n",
    "referenced_tweets = parse_referenced_tweets(tweet)\n",
    "context_annotations = parse_context_annotations(tweet)\n",
    "hashtags = parse_entity_hashtags(tweet)\n",
    "entities = parse_entity_annotations(tweet)"
   ]
  },
  {
   "cell_type": "code",
   "execution_count": 6,
   "metadata": {},
   "outputs": [],
   "source": [
    "def parse_tweet_data(username, tweet, is_quoted_tweet = False):\n",
    "    if not username:\n",
    "        user = client.get_user(id=tweet.author_id)\n",
    "        username = user.data.username\n",
    "    tweet_id = tweet.id\n",
    "    created_at = str(tweet.created_at)\n",
    "    text = tweet.text\n",
    "    hashtags = parse_entity_hashtags(tweet)\n",
    "    like_count = metrics[\"like_count\"]\n",
    "    reply_count = metrics[\"reply_count\"]\n",
    "    retweet_count = metrics[\"retweet_count\"]\n",
    "    is_reply = False\n",
    "    referenced_tweets = parse_referenced_tweets(tweet)\n",
    "    if referenced_tweets:\n",
    "        for reference in referenced_tweets:\n",
    "            if reference[1] == \"replied_to\":\n",
    "                is_reply = True\n",
    "    context_annotations = parse_context_annotations(tweet)\n",
    "    entities = parse_entity_annotations(tweet)\n",
    "    \n",
    "    if is_reply:\n",
    "        # Don't include replies\n",
    "        return None\n",
    "    \n",
    "    return [username, is_quoted_tweet, tweet_id, created_at, text, hashtags, like_count, reply_count, retweet_count, referenced_tweets, context_annotations, entities]"
   ]
  },
  {
   "cell_type": "code",
   "execution_count": 7,
   "metadata": {},
   "outputs": [],
   "source": [
    "COLUMNS = [\"username\", \"is_quoted_tweet\", \"tweet_id\", \"created_at\", \"text\", \"hashtags\", \"like_count\", \"reply_count\", \"retweet_count\", \"referenced_tweets\", \"context_annotations\", \"entity_annotations\"]\n",
    "TWEET_COUNT = 100\n",
    "\n",
    "def get_tweets_for_user(username: str):\n",
    "    user = client.get_user(username=username)\n",
    "    \n",
    "    end_time = datetime.datetime.now(datetime.timezone.utc).replace(microsecond=0)\n",
    "    one_year_delta = datetime.timedelta(days=365)\n",
    "    end_time_formatted = str(end_time.isoformat())\n",
    "    start_time_formatted = str((end_time - one_year_delta).isoformat())\n",
    "    \n",
    "    rows = []\n",
    "    quoted_tweet_ids = set()\n",
    "    \n",
    "    # Get tweets for username\n",
    "    while True:\n",
    "        tweets = client.get_users_tweets(id=user.data.id, tweet_fields=FIELDS, end_time=end_time_formatted, start_time=start_time_formatted, max_results=TWEET_COUNT)\n",
    "\n",
    "        if not tweets.data:\n",
    "            # No more tweets btwn start_time and original end_time\n",
    "            break\n",
    "            \n",
    "        for tweet in tweets.data:\n",
    "            parsed_tweet = parse_tweet_data(username, tweet)\n",
    "            if parsed_tweet:\n",
    "                rows.append(parsed_tweet)\n",
    "                \n",
    "                # If quote tweet, add ID of quoted tweet to quoted_tweet_ids set\n",
    "                referenced_tweets = parsed_tweet[9]\n",
    "                if referenced_tweets:\n",
    "                    for reference in referenced_tweets:\n",
    "                        tweet_id, tweet_type = reference\n",
    "                        if tweet_type == \"quoted\":\n",
    "                            quoted_tweet_ids.add(tweet_id)\n",
    "\n",
    "        # Update end_time to created_at time of last tweet for next 100 tweets\n",
    "        last_tweet_time = rows[-1][3]   # list representing last tweet is at rows[-1], created_at is at index 3 of that list\n",
    "        end_time_formatted = \"T\".join(last_tweet_time.split())\n",
    "    \n",
    "    # Get quoted tweets\n",
    "    for tweet_id in quoted_tweet_ids:\n",
    "        tweet = client.get_tweet(id=tweet_id, tweet_fields=FIELDS)\n",
    "        parsed_tweet = parse_tweet_data(None, tweet.data, is_quoted_tweet = True)\n",
    "        if parsed_tweet:\n",
    "            rows.append(parsed_tweet)\n",
    "        \n",
    "    df = pd.DataFrame(rows, columns=COLUMNS)\n",
    "    \n",
    "    return df"
   ]
  },
  {
   "cell_type": "code",
   "execution_count": 8,
   "metadata": {},
   "outputs": [],
   "source": [
    "yum_tweets_df = get_tweets_for_user(\"yumbrands\")\n",
    "\n",
    "yum_tweets_df.to_csv(\"yum_tweets.csv\")"
   ]
  },
  {
   "cell_type": "code",
   "execution_count": null,
   "metadata": {},
   "outputs": [],
   "source": []
  }
 ],
 "metadata": {
  "kernelspec": {
   "display_name": "Python 3 (ipykernel)",
   "language": "python",
   "name": "python3"
  },
  "language_info": {
   "codemirror_mode": {
    "name": "ipython",
    "version": 3
   },
   "file_extension": ".py",
   "mimetype": "text/x-python",
   "name": "python",
   "nbconvert_exporter": "python",
   "pygments_lexer": "ipython3",
   "version": "3.8.12"
  },
  "vscode": {
   "interpreter": {
    "hash": "cf9e30d75915ca042a0c16880f12618917ecf4ef982b26da0e033904aa847049"
   }
  }
 },
 "nbformat": 4,
 "nbformat_minor": 2
}
